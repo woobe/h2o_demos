{
 "cells": [
  {
   "cell_type": "markdown",
   "metadata": {},
   "source": [
    "# H2O Demo: Human Activity Recognition with Smartphones"
   ]
  },
  {
   "cell_type": "markdown",
   "metadata": {},
   "source": [
    "## About this demo\n",
    "\n",
    "The notebook demonstrates the following H2O features:\n",
    "\n",
    "- Starting and connecting to a H2O cluster from R.\n",
    "- Importing compressed datasets (in gzip format) into H2O.\n",
    "- Building and evaluating a predictive model based on training dataset.\n",
    "- Making and evaluting predictions based on test dataset."
   ]
  },
  {
   "cell_type": "markdown",
   "metadata": {},
   "source": [
    "## About the dataset\n",
    "\n",
    "- Recordings of 30 study participants performing activities of daily living\n",
    "- by UCI Machine Learning\n",
    "- Reference (Original): https://archive.ics.uci.edu/ml/datasets/Human+Activity+Recognition+Using+Smartphones\n",
    "- Reference (Kaggle): https://www.kaggle.com/uciml/human-activity-recognition-with-smartphones\n",
    "\n",
    "\n",
    "### Description\n",
    "\n",
    "The Human Activity Recognition database was built from the recordings of 30 study participants performing activities of daily living (ADL) while carrying a waist-mounted smartphone with embedded inertial sensors. The objective is to classify activities into one of the six activities performed.\n",
    "\n",
    "### Description of experiment\n",
    "\n",
    "The experiments have been carried out with a group of 30 volunteers within an age bracket of 19-48 years. Each person performed six activities (WALKING, WALKING_UPSTAIRS, WALKING_DOWNSTAIRS, SITTING, STANDING, LAYING) wearing a smartphone (Samsung Galaxy S II) on the waist. Using its embedded accelerometer and gyroscope, we captured 3-axial linear acceleration and 3-axial angular velocity at a constant rate of 50Hz. The experiments have been video-recorded to label the data manually. The obtained dataset has been randomly partitioned into two sets, where 70% of the volunteers was selected for generating the training data and 30% the test data.\n",
    "\n",
    "The sensor signals (accelerometer and gyroscope) were pre-processed by applying noise filters and then sampled in fixed-width sliding windows of 2.56 sec and 50% overlap (128 readings/window). The sensor acceleration signal, which has gravitational and body motion components, was separated using a Butterworth low-pass filter into body acceleration and gravity. The gravitational force is assumed to have only low frequency components, therefore a filter with 0.3 Hz cutoff frequency was used. From each window, a vector of features was obtained by calculating variables from the time and frequency domain.\n",
    "\n",
    "### Attribute information\n",
    "\n",
    "For each record in the dataset the following is provided:\n",
    "\n",
    "- Triaxial acceleration from the accelerometer (total acceleration) and the estimated body acceleration.\n",
    "- Triaxial Angular velocity from the gyroscope.\n",
    "- A 561-feature vector with time and frequency domain variables.\n",
    "- Its activity label.\n",
    "- An identifier of the subject who carried out the experiment.\n",
    "\n",
    "### Relevant papers\n",
    "\n",
    "- Davide Anguita, Alessandro Ghio, Luca Oneto, Xavier Parra and Jorge L. Reyes-Ortiz. Human Activity Recognition on Smartphones using a Multiclass Hardware-Friendly Support Vector Machine. International Workshop of Ambient Assisted Living (IWAAL 2012). Vitoria-Gasteiz, Spain. Dec 2012\n",
    "\n",
    "- Davide Anguita, Alessandro Ghio, Luca Oneto, Xavier Parra, Jorge L. Reyes-Ortiz. Energy Efficient Smartphone-Based Activity Recognition using Fixed-Point Arithmetic. Journal of Universal Computer Science. Special Issue in Ambient Assisted Living: Home Care. Volume 19, Issue 9. May 2013\n",
    "\n",
    "- Davide Anguita, Alessandro Ghio, Luca Oneto, Xavier Parra and Jorge L. Reyes-Ortiz. Human Activity Recognition on Smartphones using a Multiclass Hardware-Friendly Support Vector Machine. 4th International Workshop of Ambient Assited Living, IWAAL 2012, Vitoria-Gasteiz, Spain, December 3-5, 2012. Proceedings. Lecture Notes in Computer Science 2012, pp 216-223.\n",
    "\n",
    "- Jorge Luis Reyes-Ortiz, Alessandro Ghio, Xavier Parra-Llanas, Davide Anguita, Joan Cabestany, Andreu Català. Human Activity and Motion Disorder Recognition: Towards Smarter Interactive Cognitive Environments. 21st European Symposium on Artificial Neural Networks, Computational Intelligence and Machine Learning, ESANN 2013. Bruges, Belgium 24-26 April 2013.\n",
    "\n",
    "### Citation\n",
    "\n",
    "Davide Anguita, Alessandro Ghio, Luca Oneto, Xavier Parra and Jorge L. Reyes-Ortiz. A Public Domain Dataset for Human Activity Recognition Using Smartphones. 21st European Symposium on Artificial Neural Networks, Computational Intelligence and Machine Learning, ESANN 2013. Bruges, Belgium 24-26 April 2013.\n",
    "\n",
    "<hr>"
   ]
  },
  {
   "cell_type": "markdown",
   "metadata": {},
   "source": [
    "## Step 1 - Start and connect to a H2O cluster (JVM)"
   ]
  },
  {
   "cell_type": "code",
   "execution_count": 1,
   "metadata": {
    "collapsed": false
   },
   "outputs": [
    {
     "name": "stdout",
     "output_type": "stream",
     "text": [
      "\n",
      "H2O is not running yet, starting it now...\n",
      "\n",
      "Note:  In case of errors look at the following log files:\n",
      "    /tmp/RtmpAkEs87/h2o_joe_started_from_r.out\n",
      "    /tmp/RtmpAkEs87/h2o_joe_started_from_r.err\n",
      "\n",
      "\n",
      "Starting H2O JVM and connecting: .. Connection successful!\n",
      "\n",
      "R is connected to the H2O cluster: \n",
      "    H2O cluster uptime:         2 seconds 333 milliseconds \n",
      "    H2O cluster version:        3.10.4.6 \n",
      "    H2O cluster version age:    18 days  \n",
      "    H2O cluster name:           H2O_started_from_R_joe_kmc898 \n",
      "    H2O cluster total nodes:    1 \n",
      "    H2O cluster total memory:   5.21 GB \n",
      "    H2O cluster total cores:    8 \n",
      "    H2O cluster allowed cores:  8 \n",
      "    H2O cluster healthy:        TRUE \n",
      "    H2O Connection ip:          localhost \n",
      "    H2O Connection port:        54321 \n",
      "    H2O Connection proxy:       NA \n",
      "    H2O Internal Security:      FALSE \n",
      "    R Version:                  R version 3.3.2 (2016-10-31) \n",
      "\n"
     ]
    }
   ],
   "source": [
    "# Start and connect to a H2O cluster (JVM)\n",
    "suppressPackageStartupMessages(library(h2o))\n",
    "h2o.init(nthreads = -1)"
   ]
  },
  {
   "cell_type": "markdown",
   "metadata": {},
   "source": [
    "## Step 2 - Importing datasets into H2O"
   ]
  },
  {
   "cell_type": "code",
   "execution_count": 2,
   "metadata": {
    "collapsed": false
   },
   "outputs": [
    {
     "name": "stdout",
     "output_type": "stream",
     "text": [
      "  |======================================================================| 100%\n",
      "  |======================================================================| 100%\n"
     ]
    }
   ],
   "source": [
    "# Import pre-processed datasets\n",
    "\n",
    "# locally (if you have the datasets in the 'data' sub-folder)\n",
    "# hex_train <- h2o.importFile(\"./data/train.csv.gz\")\n",
    "# hex_test <- h2o.importFile(\"./data/test.csv.gz\")\n",
    "\n",
    "# or directly from the web (github)\n",
    "hex_train <- h2o.importFile(\"https://github.com/woobe/h2o_demos/blob/master/human_activitiy_recognition_with_smartphones/data/train.csv.gz?raw=true\")\n",
    "hex_test <- h2o.importFile(\"https://github.com/woobe/h2o_demos/blob/master/human_activitiy_recognition_with_smartphones/data/test.csv.gz?raw=true\")"
   ]
  },
  {
   "cell_type": "code",
   "execution_count": 3,
   "metadata": {
    "collapsed": false,
    "scrolled": true
   },
   "outputs": [
    {
     "data": {
      "text/html": [
       "<ol class=list-inline>\n",
       "\t<li>7352</li>\n",
       "\t<li>562</li>\n",
       "</ol>\n"
      ],
      "text/latex": [
       "\\begin{enumerate*}\n",
       "\\item 7352\n",
       "\\item 562\n",
       "\\end{enumerate*}\n"
      ],
      "text/markdown": [
       "1. 7352\n",
       "2. 562\n",
       "\n",
       "\n"
      ],
      "text/plain": [
       "[1] 7352  562"
      ]
     },
     "metadata": {},
     "output_type": "display_data"
    },
    {
     "data": {
      "text/html": [
       "<table>\n",
       "<thead><tr><th scope=col>activity</th><th scope=col>V1</th><th scope=col>V2</th><th scope=col>V3</th><th scope=col>V4</th><th scope=col>V5</th><th scope=col>V6</th><th scope=col>V7</th><th scope=col>V8</th><th scope=col>V9</th><th scope=col>⋯</th><th scope=col>V552</th><th scope=col>V553</th><th scope=col>V554</th><th scope=col>V555</th><th scope=col>V556</th><th scope=col>V557</th><th scope=col>V558</th><th scope=col>V559</th><th scope=col>V560</th><th scope=col>V561</th></tr></thead>\n",
       "<tbody>\n",
       "\t<tr><td>STANDING    </td><td>0.2885845   </td><td>-0.02029417 </td><td>-0.1329051  </td><td>-0.9952786  </td><td>-0.9831106  </td><td>-0.9135264  </td><td>-0.9951121  </td><td>-0.9831846  </td><td>-0.9235270  </td><td>⋯           </td><td>-0.07432303 </td><td>-0.2986764  </td><td>-0.7103041  </td><td>-0.11275434 </td><td> 0.030400372</td><td>-0.4647614  </td><td>-0.01844588 </td><td>-0.8412468  </td><td>0.1799406   </td><td>-0.05862692 </td></tr>\n",
       "\t<tr><td>STANDING    </td><td>0.2784188   </td><td>-0.01641057 </td><td>-0.1235202  </td><td>-0.9982453  </td><td>-0.9753002  </td><td>-0.9603220  </td><td>-0.9988072  </td><td>-0.9749144  </td><td>-0.9576862  </td><td>⋯           </td><td> 0.15807454 </td><td>-0.5950509  </td><td>-0.8614993  </td><td> 0.05347696 </td><td>-0.007434566</td><td>-0.7326262  </td><td> 0.70351059 </td><td>-0.8447876  </td><td>0.1802889   </td><td>-0.05431672 </td></tr>\n",
       "\t<tr><td>STANDING    </td><td>0.2796531   </td><td>-0.01946716 </td><td>-0.1134617  </td><td>-0.9953796  </td><td>-0.9671870  </td><td>-0.9789440  </td><td>-0.9965199  </td><td>-0.9636684  </td><td>-0.9774686  </td><td>⋯           </td><td> 0.41450281 </td><td>-0.3907482  </td><td>-0.7601037  </td><td>-0.11855926 </td><td> 0.177899480</td><td> 0.1006992  </td><td> 0.80852908 </td><td>-0.8489335  </td><td>0.1806373   </td><td>-0.04911782 </td></tr>\n",
       "\t<tr><td>STANDING    </td><td>0.2791739   </td><td>-0.02620065 </td><td>-0.1232826  </td><td>-0.9960915  </td><td>-0.9834027  </td><td>-0.9906751  </td><td>-0.9970995  </td><td>-0.9827498  </td><td>-0.9893025  </td><td>⋯           </td><td> 0.40457253 </td><td>-0.1172902  </td><td>-0.4828445  </td><td>-0.03678797 </td><td>-0.012892494</td><td> 0.6400110  </td><td>-0.48536645 </td><td>-0.8486494  </td><td>0.1819348   </td><td>-0.04766318 </td></tr>\n",
       "\t<tr><td>STANDING    </td><td>0.2766288   </td><td>-0.01656966 </td><td>-0.1153619  </td><td>-0.9981386  </td><td>-0.9808173  </td><td>-0.9904816  </td><td>-0.9983211  </td><td>-0.9796719  </td><td>-0.9904411  </td><td>⋯           </td><td> 0.08775301 </td><td>-0.3514709  </td><td>-0.6992052  </td><td> 0.12332005 </td><td> 0.122541960</td><td> 0.6935783  </td><td>-0.61597061 </td><td>-0.8478653  </td><td>0.1851512   </td><td>-0.04389225 </td></tr>\n",
       "\t<tr><td>STANDING    </td><td>0.2771988   </td><td>-0.01009785 </td><td>-0.1051373  </td><td>-0.9973350  </td><td>-0.9904868  </td><td>-0.9954200  </td><td>-0.9976274  </td><td>-0.9902177  </td><td>-0.9955489  </td><td>⋯           </td><td> 0.01995331 </td><td>-0.5454101  </td><td>-0.8446193  </td><td> 0.08263215 </td><td>-0.143439010</td><td> 0.2750408  </td><td>-0.36822404 </td><td>-0.8496316  </td><td>0.1848225   </td><td>-0.04212638 </td></tr>\n",
       "</tbody>\n",
       "</table>\n"
      ],
      "text/latex": [
       "\\begin{tabular}{r|llllllllllllllllllllllllllllllllllllllllllllllllllllllllllllllllllllllllllllllllllllllllllllllllllllllllllllllllllllllllllllllllllllllllllllllllllllllllllllllllllllllllllllllllllllllllllllllllllllllllllllllllllllllllllllllllllllllllllllllllllllllllllllllllllllllllllllllllllllllllllllllllllllllllllllllllllllllllllllllllllllllllllllllllllllllllllllllllllllllllllllllllllllllllllllllllllllllllllllllllllllllllllllllllllllllllllllllllllllllllllllllllllllllllllllllllllllllllllllllllllllllllllllllllllllllllllllllllllllllllllllllllllllllllllllllllllllllllllllllllll}\n",
       " activity & V1 & V2 & V3 & V4 & V5 & V6 & V7 & V8 & V9 & ⋯ & V552 & V553 & V554 & V555 & V556 & V557 & V558 & V559 & V560 & V561\\\\\n",
       "\\hline\n",
       "\t STANDING     & 0.2885845    & -0.02029417  & -0.1329051   & -0.9952786   & -0.9831106   & -0.9135264   & -0.9951121   & -0.9831846   & -0.9235270   & ⋯            & -0.07432303  & -0.2986764   & -0.7103041   & -0.11275434  &  0.030400372 & -0.4647614   & -0.01844588  & -0.8412468   & 0.1799406    & -0.05862692 \\\\\n",
       "\t STANDING     & 0.2784188    & -0.01641057  & -0.1235202   & -0.9982453   & -0.9753002   & -0.9603220   & -0.9988072   & -0.9749144   & -0.9576862   & ⋯            &  0.15807454  & -0.5950509   & -0.8614993   &  0.05347696  & -0.007434566 & -0.7326262   &  0.70351059  & -0.8447876   & 0.1802889    & -0.05431672 \\\\\n",
       "\t STANDING     & 0.2796531    & -0.01946716  & -0.1134617   & -0.9953796   & -0.9671870   & -0.9789440   & -0.9965199   & -0.9636684   & -0.9774686   & ⋯            &  0.41450281  & -0.3907482   & -0.7601037   & -0.11855926  &  0.177899480 &  0.1006992   &  0.80852908  & -0.8489335   & 0.1806373    & -0.04911782 \\\\\n",
       "\t STANDING     & 0.2791739    & -0.02620065  & -0.1232826   & -0.9960915   & -0.9834027   & -0.9906751   & -0.9970995   & -0.9827498   & -0.9893025   & ⋯            &  0.40457253  & -0.1172902   & -0.4828445   & -0.03678797  & -0.012892494 &  0.6400110   & -0.48536645  & -0.8486494   & 0.1819348    & -0.04766318 \\\\\n",
       "\t STANDING     & 0.2766288    & -0.01656966  & -0.1153619   & -0.9981386   & -0.9808173   & -0.9904816   & -0.9983211   & -0.9796719   & -0.9904411   & ⋯            &  0.08775301  & -0.3514709   & -0.6992052   &  0.12332005  &  0.122541960 &  0.6935783   & -0.61597061  & -0.8478653   & 0.1851512    & -0.04389225 \\\\\n",
       "\t STANDING     & 0.2771988    & -0.01009785  & -0.1051373   & -0.9973350   & -0.9904868   & -0.9954200   & -0.9976274   & -0.9902177   & -0.9955489   & ⋯            &  0.01995331  & -0.5454101   & -0.8446193   &  0.08263215  & -0.143439010 &  0.2750408   & -0.36822404  & -0.8496316   & 0.1848225    & -0.04212638 \\\\\n",
       "\\end{tabular}\n"
      ],
      "text/markdown": [
       "\n",
       "activity | V1 | V2 | V3 | V4 | V5 | V6 | V7 | V8 | V9 | ⋯ | V552 | V553 | V554 | V555 | V556 | V557 | V558 | V559 | V560 | V561 | \n",
       "|---|---|---|---|---|---|\n",
       "| STANDING     | 0.2885845    | -0.02029417  | -0.1329051   | -0.9952786   | -0.9831106   | -0.9135264   | -0.9951121   | -0.9831846   | -0.9235270   | ⋯            | -0.07432303  | -0.2986764   | -0.7103041   | -0.11275434  |  0.030400372 | -0.4647614   | -0.01844588  | -0.8412468   | 0.1799406    | -0.05862692  | \n",
       "| STANDING     | 0.2784188    | -0.01641057  | -0.1235202   | -0.9982453   | -0.9753002   | -0.9603220   | -0.9988072   | -0.9749144   | -0.9576862   | ⋯            |  0.15807454  | -0.5950509   | -0.8614993   |  0.05347696  | -0.007434566 | -0.7326262   |  0.70351059  | -0.8447876   | 0.1802889    | -0.05431672  | \n",
       "| STANDING     | 0.2796531    | -0.01946716  | -0.1134617   | -0.9953796   | -0.9671870   | -0.9789440   | -0.9965199   | -0.9636684   | -0.9774686   | ⋯            |  0.41450281  | -0.3907482   | -0.7601037   | -0.11855926  |  0.177899480 |  0.1006992   |  0.80852908  | -0.8489335   | 0.1806373    | -0.04911782  | \n",
       "| STANDING     | 0.2791739    | -0.02620065  | -0.1232826   | -0.9960915   | -0.9834027   | -0.9906751   | -0.9970995   | -0.9827498   | -0.9893025   | ⋯            |  0.40457253  | -0.1172902   | -0.4828445   | -0.03678797  | -0.012892494 |  0.6400110   | -0.48536645  | -0.8486494   | 0.1819348    | -0.04766318  | \n",
       "| STANDING     | 0.2766288    | -0.01656966  | -0.1153619   | -0.9981386   | -0.9808173   | -0.9904816   | -0.9983211   | -0.9796719   | -0.9904411   | ⋯            |  0.08775301  | -0.3514709   | -0.6992052   |  0.12332005  |  0.122541960 |  0.6935783   | -0.61597061  | -0.8478653   | 0.1851512    | -0.04389225  | \n",
       "| STANDING     | 0.2771988    | -0.01009785  | -0.1051373   | -0.9973350   | -0.9904868   | -0.9954200   | -0.9976274   | -0.9902177   | -0.9955489   | ⋯            |  0.01995331  | -0.5454101   | -0.8446193   |  0.08263215  | -0.143439010 |  0.2750408   | -0.36822404  | -0.8496316   | 0.1848225    | -0.04212638  | \n",
       "\n",
       "\n"
      ],
      "text/plain": [
       "  activity V1        V2          V3         V4         V5         V6        \n",
       "1 STANDING 0.2885845 -0.02029417 -0.1329051 -0.9952786 -0.9831106 -0.9135264\n",
       "2 STANDING 0.2784188 -0.01641057 -0.1235202 -0.9982453 -0.9753002 -0.9603220\n",
       "3 STANDING 0.2796531 -0.01946716 -0.1134617 -0.9953796 -0.9671870 -0.9789440\n",
       "4 STANDING 0.2791739 -0.02620065 -0.1232826 -0.9960915 -0.9834027 -0.9906751\n",
       "5 STANDING 0.2766288 -0.01656966 -0.1153619 -0.9981386 -0.9808173 -0.9904816\n",
       "6 STANDING 0.2771988 -0.01009785 -0.1051373 -0.9973350 -0.9904868 -0.9954200\n",
       "  V7         V8         V9         ⋯ V552        V553       V554      \n",
       "1 -0.9951121 -0.9831846 -0.9235270 ⋯ -0.07432303 -0.2986764 -0.7103041\n",
       "2 -0.9988072 -0.9749144 -0.9576862 ⋯  0.15807454 -0.5950509 -0.8614993\n",
       "3 -0.9965199 -0.9636684 -0.9774686 ⋯  0.41450281 -0.3907482 -0.7601037\n",
       "4 -0.9970995 -0.9827498 -0.9893025 ⋯  0.40457253 -0.1172902 -0.4828445\n",
       "5 -0.9983211 -0.9796719 -0.9904411 ⋯  0.08775301 -0.3514709 -0.6992052\n",
       "6 -0.9976274 -0.9902177 -0.9955489 ⋯  0.01995331 -0.5454101 -0.8446193\n",
       "  V555        V556         V557       V558        V559       V560     \n",
       "1 -0.11275434  0.030400372 -0.4647614 -0.01844588 -0.8412468 0.1799406\n",
       "2  0.05347696 -0.007434566 -0.7326262  0.70351059 -0.8447876 0.1802889\n",
       "3 -0.11855926  0.177899480  0.1006992  0.80852908 -0.8489335 0.1806373\n",
       "4 -0.03678797 -0.012892494  0.6400110 -0.48536645 -0.8486494 0.1819348\n",
       "5  0.12332005  0.122541960  0.6935783 -0.61597061 -0.8478653 0.1851512\n",
       "6  0.08263215 -0.143439010  0.2750408 -0.36822404 -0.8496316 0.1848225\n",
       "  V561       \n",
       "1 -0.05862692\n",
       "2 -0.05431672\n",
       "3 -0.04911782\n",
       "4 -0.04766318\n",
       "5 -0.04389225\n",
       "6 -0.04212638"
      ]
     },
     "metadata": {},
     "output_type": "display_data"
    },
    {
     "data": {
      "text/plain": [
       " activity                \n",
       " LAYING            :1407 \n",
       " STANDING          :1374 \n",
       " SITTING           :1286 \n",
       " WALKING           :1226 \n",
       " WALKING_UPSTAIRS  :1073 \n",
       " WALKING_DOWNSTAIRS: 986 "
      ]
     },
     "metadata": {},
     "output_type": "display_data"
    }
   ],
   "source": [
    "# Quick summary of train dataset\n",
    "dim(hex_train)\n",
    "head(hex_train)\n",
    "summary(hex_train$activity, exact_quantiles=TRUE)"
   ]
  },
  {
   "cell_type": "code",
   "execution_count": 4,
   "metadata": {
    "collapsed": false,
    "scrolled": true
   },
   "outputs": [
    {
     "data": {
      "text/html": [
       "<ol class=list-inline>\n",
       "\t<li>2947</li>\n",
       "\t<li>562</li>\n",
       "</ol>\n"
      ],
      "text/latex": [
       "\\begin{enumerate*}\n",
       "\\item 2947\n",
       "\\item 562\n",
       "\\end{enumerate*}\n"
      ],
      "text/markdown": [
       "1. 2947\n",
       "2. 562\n",
       "\n",
       "\n"
      ],
      "text/plain": [
       "[1] 2947  562"
      ]
     },
     "metadata": {},
     "output_type": "display_data"
    },
    {
     "data": {
      "text/html": [
       "<table>\n",
       "<thead><tr><th scope=col>activity</th><th scope=col>V1</th><th scope=col>V2</th><th scope=col>V3</th><th scope=col>V4</th><th scope=col>V5</th><th scope=col>V6</th><th scope=col>V7</th><th scope=col>V8</th><th scope=col>V9</th><th scope=col>⋯</th><th scope=col>V552</th><th scope=col>V553</th><th scope=col>V554</th><th scope=col>V555</th><th scope=col>V556</th><th scope=col>V557</th><th scope=col>V558</th><th scope=col>V559</th><th scope=col>V560</th><th scope=col>V561</th></tr></thead>\n",
       "<tbody>\n",
       "\t<tr><td>STANDING    </td><td>0.2571778   </td><td>-0.02328523 </td><td>-0.01465376 </td><td>-0.9384040  </td><td>-0.9200908  </td><td>-0.6676833  </td><td>-0.9525011  </td><td>-0.9252487  </td><td>-0.6743022  </td><td>⋯           </td><td> 0.07164545 </td><td>-0.3303704  </td><td>-0.7059739  </td><td> 0.006462403</td><td> 0.16291982 </td><td>-0.82588562 </td><td> 0.27115145 </td><td>-0.7200093  </td><td>0.2768010   </td><td>-0.05797830 </td></tr>\n",
       "\t<tr><td>STANDING    </td><td>0.2860267   </td><td>-0.01316336 </td><td>-0.11908252 </td><td>-0.9754147  </td><td>-0.9674579  </td><td>-0.9449582  </td><td>-0.9867988  </td><td>-0.9684013  </td><td>-0.9458234  </td><td>⋯           </td><td>-0.40118872 </td><td>-0.1218451  </td><td>-0.5949439  </td><td>-0.083494968</td><td> 0.01749957 </td><td>-0.43437455 </td><td> 0.92059323 </td><td>-0.6980908  </td><td>0.2813429   </td><td>-0.08389801 </td></tr>\n",
       "\t<tr><td>STANDING    </td><td>0.2754848   </td><td>-0.02605042 </td><td>-0.11815167 </td><td>-0.9938190  </td><td>-0.9699255  </td><td>-0.9627480  </td><td>-0.9944034  </td><td>-0.9707350  </td><td>-0.9634827  </td><td>⋯           </td><td> 0.06289131 </td><td>-0.1904219  </td><td>-0.6407357  </td><td>-0.034956250</td><td> 0.20230203 </td><td> 0.06410335 </td><td> 0.14506843 </td><td>-0.7027715  </td><td>0.2800830   </td><td>-0.07934620 </td></tr>\n",
       "\t<tr><td>STANDING    </td><td>0.2702982   </td><td>-0.03261387 </td><td>-0.11752018 </td><td>-0.9947428  </td><td>-0.9732676  </td><td>-0.9670907  </td><td>-0.9952743  </td><td>-0.9744710  </td><td>-0.9688974  </td><td>⋯           </td><td> 0.11669529 </td><td>-0.3444180  </td><td>-0.7361238  </td><td>-0.017067021</td><td> 0.15443783 </td><td> 0.34013408 </td><td> 0.29640709 </td><td>-0.6989538  </td><td>0.2841138   </td><td>-0.07710800 </td></tr>\n",
       "\t<tr><td>STANDING    </td><td>0.2748330   </td><td>-0.02784779 </td><td>-0.12952716 </td><td>-0.9938525  </td><td>-0.9674455  </td><td>-0.9782950  </td><td>-0.9941114  </td><td>-0.9659526  </td><td>-0.9773460  </td><td>⋯           </td><td>-0.12171128 </td><td>-0.5346849  </td><td>-0.8465952  </td><td>-0.002222652</td><td>-0.04004639 </td><td> 0.73671509 </td><td>-0.11854473 </td><td>-0.6922450  </td><td>0.2907220   </td><td>-0.07385681 </td></tr>\n",
       "\t<tr><td>STANDING    </td><td>0.2792199   </td><td>-0.01862040 </td><td>-0.11390197 </td><td>-0.9944552  </td><td>-0.9704169  </td><td>-0.9653163  </td><td>-0.9945851  </td><td>-0.9694806  </td><td>-0.9658969  </td><td>⋯           </td><td> 0.08360294 </td><td>-0.4935174  </td><td>-0.8575645  </td><td>-0.095680522</td><td> 0.04884881 </td><td> 0.76068392 </td><td>-0.07221636 </td><td>-0.6898161  </td><td>0.2948958   </td><td>-0.06847070 </td></tr>\n",
       "</tbody>\n",
       "</table>\n"
      ],
      "text/latex": [
       "\\begin{tabular}{r|llllllllllllllllllllllllllllllllllllllllllllllllllllllllllllllllllllllllllllllllllllllllllllllllllllllllllllllllllllllllllllllllllllllllllllllllllllllllllllllllllllllllllllllllllllllllllllllllllllllllllllllllllllllllllllllllllllllllllllllllllllllllllllllllllllllllllllllllllllllllllllllllllllllllllllllllllllllllllllllllllllllllllllllllllllllllllllllllllllllllllllllllllllllllllllllllllllllllllllllllllllllllllllllllllllllllllllllllllllllllllllllllllllllllllllllllllllllllllllllllllllllllllllllllllllllllllllllllllllllllllllllllllllllllllllllllllllllllllllllllll}\n",
       " activity & V1 & V2 & V3 & V4 & V5 & V6 & V7 & V8 & V9 & ⋯ & V552 & V553 & V554 & V555 & V556 & V557 & V558 & V559 & V560 & V561\\\\\n",
       "\\hline\n",
       "\t STANDING     & 0.2571778    & -0.02328523  & -0.01465376  & -0.9384040   & -0.9200908   & -0.6676833   & -0.9525011   & -0.9252487   & -0.6743022   & ⋯            &  0.07164545  & -0.3303704   & -0.7059739   &  0.006462403 &  0.16291982  & -0.82588562  &  0.27115145  & -0.7200093   & 0.2768010    & -0.05797830 \\\\\n",
       "\t STANDING     & 0.2860267    & -0.01316336  & -0.11908252  & -0.9754147   & -0.9674579   & -0.9449582   & -0.9867988   & -0.9684013   & -0.9458234   & ⋯            & -0.40118872  & -0.1218451   & -0.5949439   & -0.083494968 &  0.01749957  & -0.43437455  &  0.92059323  & -0.6980908   & 0.2813429    & -0.08389801 \\\\\n",
       "\t STANDING     & 0.2754848    & -0.02605042  & -0.11815167  & -0.9938190   & -0.9699255   & -0.9627480   & -0.9944034   & -0.9707350   & -0.9634827   & ⋯            &  0.06289131  & -0.1904219   & -0.6407357   & -0.034956250 &  0.20230203  &  0.06410335  &  0.14506843  & -0.7027715   & 0.2800830    & -0.07934620 \\\\\n",
       "\t STANDING     & 0.2702982    & -0.03261387  & -0.11752018  & -0.9947428   & -0.9732676   & -0.9670907   & -0.9952743   & -0.9744710   & -0.9688974   & ⋯            &  0.11669529  & -0.3444180   & -0.7361238   & -0.017067021 &  0.15443783  &  0.34013408  &  0.29640709  & -0.6989538   & 0.2841138    & -0.07710800 \\\\\n",
       "\t STANDING     & 0.2748330    & -0.02784779  & -0.12952716  & -0.9938525   & -0.9674455   & -0.9782950   & -0.9941114   & -0.9659526   & -0.9773460   & ⋯            & -0.12171128  & -0.5346849   & -0.8465952   & -0.002222652 & -0.04004639  &  0.73671509  & -0.11854473  & -0.6922450   & 0.2907220    & -0.07385681 \\\\\n",
       "\t STANDING     & 0.2792199    & -0.01862040  & -0.11390197  & -0.9944552   & -0.9704169   & -0.9653163   & -0.9945851   & -0.9694806   & -0.9658969   & ⋯            &  0.08360294  & -0.4935174   & -0.8575645   & -0.095680522 &  0.04884881  &  0.76068392  & -0.07221636  & -0.6898161   & 0.2948958    & -0.06847070 \\\\\n",
       "\\end{tabular}\n"
      ],
      "text/markdown": [
       "\n",
       "activity | V1 | V2 | V3 | V4 | V5 | V6 | V7 | V8 | V9 | ⋯ | V552 | V553 | V554 | V555 | V556 | V557 | V558 | V559 | V560 | V561 | \n",
       "|---|---|---|---|---|---|\n",
       "| STANDING     | 0.2571778    | -0.02328523  | -0.01465376  | -0.9384040   | -0.9200908   | -0.6676833   | -0.9525011   | -0.9252487   | -0.6743022   | ⋯            |  0.07164545  | -0.3303704   | -0.7059739   |  0.006462403 |  0.16291982  | -0.82588562  |  0.27115145  | -0.7200093   | 0.2768010    | -0.05797830  | \n",
       "| STANDING     | 0.2860267    | -0.01316336  | -0.11908252  | -0.9754147   | -0.9674579   | -0.9449582   | -0.9867988   | -0.9684013   | -0.9458234   | ⋯            | -0.40118872  | -0.1218451   | -0.5949439   | -0.083494968 |  0.01749957  | -0.43437455  |  0.92059323  | -0.6980908   | 0.2813429    | -0.08389801  | \n",
       "| STANDING     | 0.2754848    | -0.02605042  | -0.11815167  | -0.9938190   | -0.9699255   | -0.9627480   | -0.9944034   | -0.9707350   | -0.9634827   | ⋯            |  0.06289131  | -0.1904219   | -0.6407357   | -0.034956250 |  0.20230203  |  0.06410335  |  0.14506843  | -0.7027715   | 0.2800830    | -0.07934620  | \n",
       "| STANDING     | 0.2702982    | -0.03261387  | -0.11752018  | -0.9947428   | -0.9732676   | -0.9670907   | -0.9952743   | -0.9744710   | -0.9688974   | ⋯            |  0.11669529  | -0.3444180   | -0.7361238   | -0.017067021 |  0.15443783  |  0.34013408  |  0.29640709  | -0.6989538   | 0.2841138    | -0.07710800  | \n",
       "| STANDING     | 0.2748330    | -0.02784779  | -0.12952716  | -0.9938525   | -0.9674455   | -0.9782950   | -0.9941114   | -0.9659526   | -0.9773460   | ⋯            | -0.12171128  | -0.5346849   | -0.8465952   | -0.002222652 | -0.04004639  |  0.73671509  | -0.11854473  | -0.6922450   | 0.2907220    | -0.07385681  | \n",
       "| STANDING     | 0.2792199    | -0.01862040  | -0.11390197  | -0.9944552   | -0.9704169   | -0.9653163   | -0.9945851   | -0.9694806   | -0.9658969   | ⋯            |  0.08360294  | -0.4935174   | -0.8575645   | -0.095680522 |  0.04884881  |  0.76068392  | -0.07221636  | -0.6898161   | 0.2948958    | -0.06847070  | \n",
       "\n",
       "\n"
      ],
      "text/plain": [
       "  activity V1        V2          V3          V4         V5         V6        \n",
       "1 STANDING 0.2571778 -0.02328523 -0.01465376 -0.9384040 -0.9200908 -0.6676833\n",
       "2 STANDING 0.2860267 -0.01316336 -0.11908252 -0.9754147 -0.9674579 -0.9449582\n",
       "3 STANDING 0.2754848 -0.02605042 -0.11815167 -0.9938190 -0.9699255 -0.9627480\n",
       "4 STANDING 0.2702982 -0.03261387 -0.11752018 -0.9947428 -0.9732676 -0.9670907\n",
       "5 STANDING 0.2748330 -0.02784779 -0.12952716 -0.9938525 -0.9674455 -0.9782950\n",
       "6 STANDING 0.2792199 -0.01862040 -0.11390197 -0.9944552 -0.9704169 -0.9653163\n",
       "  V7         V8         V9         ⋯ V552        V553       V554      \n",
       "1 -0.9525011 -0.9252487 -0.6743022 ⋯  0.07164545 -0.3303704 -0.7059739\n",
       "2 -0.9867988 -0.9684013 -0.9458234 ⋯ -0.40118872 -0.1218451 -0.5949439\n",
       "3 -0.9944034 -0.9707350 -0.9634827 ⋯  0.06289131 -0.1904219 -0.6407357\n",
       "4 -0.9952743 -0.9744710 -0.9688974 ⋯  0.11669529 -0.3444180 -0.7361238\n",
       "5 -0.9941114 -0.9659526 -0.9773460 ⋯ -0.12171128 -0.5346849 -0.8465952\n",
       "6 -0.9945851 -0.9694806 -0.9658969 ⋯  0.08360294 -0.4935174 -0.8575645\n",
       "  V555         V556        V557        V558        V559       V560     \n",
       "1  0.006462403  0.16291982 -0.82588562  0.27115145 -0.7200093 0.2768010\n",
       "2 -0.083494968  0.01749957 -0.43437455  0.92059323 -0.6980908 0.2813429\n",
       "3 -0.034956250  0.20230203  0.06410335  0.14506843 -0.7027715 0.2800830\n",
       "4 -0.017067021  0.15443783  0.34013408  0.29640709 -0.6989538 0.2841138\n",
       "5 -0.002222652 -0.04004639  0.73671509 -0.11854473 -0.6922450 0.2907220\n",
       "6 -0.095680522  0.04884881  0.76068392 -0.07221636 -0.6898161 0.2948958\n",
       "  V561       \n",
       "1 -0.05797830\n",
       "2 -0.08389801\n",
       "3 -0.07934620\n",
       "4 -0.07710800\n",
       "5 -0.07385681\n",
       "6 -0.06847070"
      ]
     },
     "metadata": {},
     "output_type": "display_data"
    },
    {
     "data": {
      "text/plain": [
       " activity               \n",
       " LAYING            :537 \n",
       " STANDING          :532 \n",
       " WALKING           :496 \n",
       " SITTING           :491 \n",
       " WALKING_UPSTAIRS  :471 \n",
       " WALKING_DOWNSTAIRS:420 "
      ]
     },
     "metadata": {},
     "output_type": "display_data"
    }
   ],
   "source": [
    "# Quick summary of test dataset\n",
    "dim(hex_test)\n",
    "head(hex_test)\n",
    "summary(hex_test$activity, exact_quantiles=TRUE)"
   ]
  },
  {
   "cell_type": "markdown",
   "metadata": {},
   "source": [
    "<br>\n",
    "\n",
    "## Step 3 - Build and evalutate a predictive model using H2O's Gradient Boosting Machine (GBM) algorithm"
   ]
  },
  {
   "cell_type": "code",
   "execution_count": 5,
   "metadata": {
    "collapsed": false,
    "scrolled": true
   },
   "outputs": [],
   "source": [
    "# Define target and features for model training\n",
    "target <- \"activity\"\n",
    "features <- setdiff(colnames(hex_train), target) # i.e. using the records of all 561 sensors"
   ]
  },
  {
   "cell_type": "code",
   "execution_count": 25,
   "metadata": {
    "collapsed": false
   },
   "outputs": [
    {
     "name": "stdout",
     "output_type": "stream",
     "text": [
      "\r",
      "  |                                                                            \r",
      "  |                                                                      |   0%\r",
      "  |                                                                            \r",
      "  |                                                                      |   1%\r",
      "  |                                                                            \r",
      "  |=                                                                     |   1%\r",
      "  |                                                                            \r",
      "  |=                                                                     |   2%\r",
      "  |                                                                            \r",
      "  |==                                                                    |   2%\r",
      "  |                                                                            \r",
      "  |==                                                                    |   3%\r",
      "  |                                                                            \r",
      "  |==                                                                    |   4%\r",
      "  |                                                                            \r",
      "  |===                                                                   |   4%\r",
      "  |                                                                            \r",
      "  |===                                                                   |   5%\r",
      "  |                                                                            \r",
      "  |====                                                                  |   5%\r",
      "  |                                                                            \r",
      "  |====                                                                  |   6%\r",
      "  |                                                                            \r",
      "  |=====                                                                 |   6%\r",
      "  |                                                                            \r",
      "  |=====                                                                 |   7%\r",
      "  |                                                                            \r",
      "  |=====                                                                 |   8%\r",
      "  |                                                                            \r",
      "  |======                                                                |   8%\r",
      "  |                                                                            \r",
      "  |======                                                                |   9%\r",
      "  |                                                                            \r",
      "  |=======                                                               |   9%\r",
      "  |                                                                            \r",
      "  |=======                                                               |  10%\r",
      "  |                                                                            \r",
      "  |=======                                                               |  11%\r",
      "  |                                                                            \r",
      "  |========                                                              |  11%\r",
      "  |                                                                            \r",
      "  |========                                                              |  12%\r",
      "  |                                                                            \r",
      "  |=========                                                             |  12%\r",
      "  |                                                                            \r",
      "  |=========                                                             |  13%\r",
      "  |                                                                            \r",
      "  |=========                                                             |  14%\r",
      "  |                                                                            \r",
      "  |==========                                                            |  14%\r",
      "  |                                                                            \r",
      "  |=======================                                               |  32%\r",
      "  |                                                                            \r",
      "  |=======================                                               |  33%\r",
      "  |                                                                            \r",
      "  |===================================                                   |  50%\r",
      "  |                                                                            \r",
      "  |===================================                                   |  51%\r",
      "  |                                                                            \r",
      "  |====================================                                  |  51%\r",
      "  |                                                                            \r",
      "  |====================================                                  |  52%\r",
      "  |                                                                            \r",
      "  |=====================================                                 |  52%\r",
      "  |                                                                            \r",
      "  |=====================================                                 |  53%\r",
      "  |                                                                            \r",
      "  |=====================================                                 |  54%\r",
      "  |                                                                            \r",
      "  |======================================                                |  54%\r",
      "  |                                                                            \r",
      "  |======================================                                |  55%\r",
      "  |                                                                            \r",
      "  |=======================================                               |  55%\r",
      "  |                                                                            \r",
      "  |=======================================                               |  56%\r",
      "  |                                                                            \r",
      "  |========================================                              |  56%\r",
      "  |                                                                            \r",
      "  |====================================================                  |  75%\r",
      "  |                                                                            \r",
      "  |=====================================================                 |  75%\r",
      "  |                                                                            \r",
      "  |=====================================================                 |  76%\r",
      "  |                                                                            \r",
      "  |======================================================                |  76%\r",
      "  |                                                                            \r",
      "  |======================================================                |  77%\r",
      "  |                                                                            \r",
      "  |======================================================                |  78%\r",
      "  |                                                                            \r",
      "  |=======================================================               |  78%\r",
      "  |                                                                            \r",
      "  |=======================================================               |  79%\r",
      "  |                                                                            \r",
      "  |========================================================              |  79%\r",
      "  |                                                                            \r",
      "  |========================================================              |  80%\r",
      "  |                                                                            \r",
      "  |========================================================              |  81%\r",
      "  |                                                                            \r",
      "  |=========================================================             |  81%\r",
      "  |                                                                            \r",
      "  |=========================================================             |  82%\r",
      "  |                                                                            \r",
      "  |==========================================================            |  82%\r",
      "  |                                                                            \r",
      "  |======================================================================| 100%\n"
     ]
    }
   ],
   "source": [
    "# Build a GBM model\n",
    "model <- h2o.gbm(x = features,\n",
    "                 y = target,\n",
    "                 training_frame = hex_train,                 \n",
    "                 model_id = \"h2o_gbm\",\n",
    "                 ntrees = 1000,\n",
    "                 learn_rate = 0.05,\n",
    "                 learn_rate_annealing = 0.999,\n",
    "                 max_depth = 7,\n",
    "                 sample_rate = 0.9,\n",
    "                 col_sample_rate = 0.9,\n",
    "                 nfolds = 3,\n",
    "                 fold_assignment = \"Stratified\",\n",
    "                 stopping_metric = \"logloss\",\n",
    "                 stopping_rounds = 5,\n",
    "                 score_tree_interval = 10,\n",
    "                 #balance_classes = TRUE,\n",
    "                 seed = 1234)"
   ]
  },
  {
   "cell_type": "code",
   "execution_count": 27,
   "metadata": {
    "collapsed": false,
    "scrolled": false
   },
   "outputs": [
    {
     "data": {
      "text/plain": [
       "Model Details:\n",
       "==============\n",
       "\n",
       "H2OMultinomialModel: gbm\n",
       "Model ID:  h2o_gbm \n",
       "Model Summary: \n",
       "  number_of_trees number_of_internal_trees model_size_in_bytes min_depth\n",
       "1             290                     1740             1459646         1\n",
       "  max_depth mean_depth min_leaves max_leaves mean_leaves\n",
       "1         7    6.99655          2         83    55.64828\n",
       "\n",
       "\n",
       "H2OMultinomialMetrics: gbm\n",
       "** Reported on training data. **\n",
       "\n",
       "Training Set Metrics: \n",
       "=====================\n",
       "\n",
       "Extract training frame with `h2o.getFrame(\"train.hex_sid_83c1_1\")`\n",
       "MSE: (Extract with `h2o.mse`) 1.02967e-11\n",
       "RMSE: (Extract with `h2o.rmse`) 3.208847e-06\n",
       "Logloss: (Extract with `h2o.logloss`) 1.142173e-06\n",
       "Mean Per-Class Error: 0\n",
       "Confusion Matrix: Extract with `h2o.confusionMatrix(<model>,train = TRUE)`)\n",
       "=========================================================================\n",
       "Confusion Matrix: vertical: actual; across: predicted\n",
       "                   LAYING SITTING STANDING WALKING WALKING_DOWNSTAIRS\n",
       "LAYING               1407       0        0       0                  0\n",
       "SITTING                 0    1286        0       0                  0\n",
       "STANDING                0       0     1374       0                  0\n",
       "WALKING                 0       0        0    1226                  0\n",
       "WALKING_DOWNSTAIRS      0       0        0       0                986\n",
       "WALKING_UPSTAIRS        0       0        0       0                  0\n",
       "Totals               1407    1286     1374    1226                986\n",
       "                   WALKING_UPSTAIRS  Error        Rate\n",
       "LAYING                            0 0.0000 = 0 / 1,407\n",
       "SITTING                           0 0.0000 = 0 / 1,286\n",
       "STANDING                          0 0.0000 = 0 / 1,374\n",
       "WALKING                           0 0.0000 = 0 / 1,226\n",
       "WALKING_DOWNSTAIRS                0 0.0000 =   0 / 986\n",
       "WALKING_UPSTAIRS               1073 0.0000 = 0 / 1,073\n",
       "Totals                         1073 0.0000 = 0 / 7,352\n",
       "\n",
       "Hit Ratio Table: Extract with `h2o.hit_ratio_table(<model>,train = TRUE)`\n",
       "=======================================================================\n",
       "Top-6 Hit Ratios: \n",
       "  k hit_ratio\n",
       "1 1  1.000000\n",
       "2 2  1.000000\n",
       "3 3  1.000000\n",
       "4 4  1.000000\n",
       "5 5  1.000000\n",
       "6 6  1.000000\n",
       "\n",
       "\n",
       "\n",
       "H2OMultinomialMetrics: gbm\n",
       "** Reported on cross-validation data. **\n",
       "** 3-fold cross-validation on training data (Metrics computed for combined holdout predictions) **\n",
       "\n",
       "Cross-Validation Set Metrics: \n",
       "=====================\n",
       "\n",
       "Extract cross-validation frame with `h2o.getFrame(\"train.hex_sid_83c1_1\")`\n",
       "MSE: (Extract with `h2o.mse`) 0.007344104\n",
       "RMSE: (Extract with `h2o.rmse`) 0.08569775\n",
       "Logloss: (Extract with `h2o.logloss`) 0.02944961\n",
       "Mean Per-Class Error: 0.008763655\n",
       "Hit Ratio Table: Extract with `h2o.hit_ratio_table(<model>,xval = TRUE)`\n",
       "=======================================================================\n",
       "Top-6 Hit Ratios: \n",
       "  k hit_ratio\n",
       "1 1  0.990751\n",
       "2 2  1.000000\n",
       "3 3  1.000000\n",
       "4 4  1.000000\n",
       "5 5  1.000000\n",
       "6 6  1.000000\n",
       "\n",
       "\n",
       "Cross-Validation Metrics Summary: \n",
       "                               mean           sd  cv_1_valid   cv_2_valid\n",
       "accuracy                 0.99077135 8.7470456E-4   0.9896743       0.9925\n",
       "err                     0.009228656 8.7470456E-4 0.010325655       0.0075\n",
       "err_count                 22.666666    2.4037008        26.0         18.0\n",
       "logloss                 0.029395567 0.0018986394  0.03290966   0.02639239\n",
       "max_per_class_error     0.032861423 0.0031006113 0.034632035   0.03712297\n",
       "mean_per_class_accuracy   0.9912118  8.688647E-4   0.9903684    0.9929493\n",
       "mean_per_class_error    0.008788202  8.688647E-4 0.009631551 0.0070507196\n",
       "mse                     0.007332566  5.250083E-4 0.007918376  0.006284995\n",
       "r2                       0.99743503 1.6752906E-4  0.99722123   0.99776536\n",
       "rmse                     0.08551624  0.003125672  0.08898526   0.07927796\n",
       "                         cv_3_valid\n",
       "accuracy                 0.99013966\n",
       "err                     0.009860313\n",
       "err_count                      24.0\n",
       "logloss                  0.02888465\n",
       "max_per_class_error     0.026829269\n",
       "mean_per_class_accuracy  0.99031764\n",
       "mean_per_class_error    0.009682334\n",
       "mse                     0.007794328\n",
       "r2                       0.99731845\n",
       "rmse                     0.08828549"
      ]
     },
     "metadata": {},
     "output_type": "display_data"
    }
   ],
   "source": [
    "# Print out model summary\n",
    "model"
   ]
  },
  {
   "cell_type": "markdown",
   "metadata": {
    "collapsed": true
   },
   "source": [
    "<br>\n",
    "\n",
    "## Step 4 - Make and evalutate predictions"
   ]
  },
  {
   "cell_type": "code",
   "execution_count": 30,
   "metadata": {
    "collapsed": false
   },
   "outputs": [
    {
     "name": "stdout",
     "output_type": "stream",
     "text": [
      "\r",
      "  |                                                                            \r",
      "  |                                                                      |   0%\r",
      "  |                                                                            \r",
      "  |======================================================================| 100%\n"
     ]
    },
    {
     "data": {
      "text/html": [
       "<table>\n",
       "<thead><tr><th scope=col>predict</th><th scope=col>LAYING</th><th scope=col>SITTING</th><th scope=col>STANDING</th><th scope=col>WALKING</th><th scope=col>WALKING_DOWNSTAIRS</th><th scope=col>WALKING_UPSTAIRS</th></tr></thead>\n",
       "<tbody>\n",
       "\t<tr><td>STANDING    </td><td>8.627448e-08</td><td>7.071596e-06</td><td>0.9999925   </td><td>1.011563e-07</td><td>9.650777e-08</td><td>1.042965e-07</td></tr>\n",
       "\t<tr><td>STANDING    </td><td>1.300119e-08</td><td>4.897534e-07</td><td>0.9999995   </td><td>1.457190e-08</td><td>1.443481e-08</td><td>1.518905e-08</td></tr>\n",
       "\t<tr><td>STANDING    </td><td>1.201143e-08</td><td>9.275131e-06</td><td>0.9999907   </td><td>1.302589e-08</td><td>1.357375e-08</td><td>1.392128e-08</td></tr>\n",
       "\t<tr><td>STANDING    </td><td>1.151841e-08</td><td>1.617590e-06</td><td>0.9999983   </td><td>1.249811e-08</td><td>1.302733e-08</td><td>1.338994e-08</td></tr>\n",
       "\t<tr><td>STANDING    </td><td>1.128372e-08</td><td>8.109414e-07</td><td>0.9999991   </td><td>1.223912e-08</td><td>1.283396e-08</td><td>1.312683e-08</td></tr>\n",
       "\t<tr><td>STANDING    </td><td>2.985663e-08</td><td>7.707183e-06</td><td>0.9999922   </td><td>3.320442e-08</td><td>3.409307e-08</td><td>3.472674e-08</td></tr>\n",
       "</tbody>\n",
       "</table>\n"
      ],
      "text/latex": [
       "\\begin{tabular}{r|lllllll}\n",
       " predict & LAYING & SITTING & STANDING & WALKING & WALKING\\_DOWNSTAIRS & WALKING\\_UPSTAIRS\\\\\n",
       "\\hline\n",
       "\t STANDING     & 8.627448e-08 & 7.071596e-06 & 0.9999925    & 1.011563e-07 & 9.650777e-08 & 1.042965e-07\\\\\n",
       "\t STANDING     & 1.300119e-08 & 4.897534e-07 & 0.9999995    & 1.457190e-08 & 1.443481e-08 & 1.518905e-08\\\\\n",
       "\t STANDING     & 1.201143e-08 & 9.275131e-06 & 0.9999907    & 1.302589e-08 & 1.357375e-08 & 1.392128e-08\\\\\n",
       "\t STANDING     & 1.151841e-08 & 1.617590e-06 & 0.9999983    & 1.249811e-08 & 1.302733e-08 & 1.338994e-08\\\\\n",
       "\t STANDING     & 1.128372e-08 & 8.109414e-07 & 0.9999991    & 1.223912e-08 & 1.283396e-08 & 1.312683e-08\\\\\n",
       "\t STANDING     & 2.985663e-08 & 7.707183e-06 & 0.9999922    & 3.320442e-08 & 3.409307e-08 & 3.472674e-08\\\\\n",
       "\\end{tabular}\n"
      ],
      "text/markdown": [
       "\n",
       "predict | LAYING | SITTING | STANDING | WALKING | WALKING_DOWNSTAIRS | WALKING_UPSTAIRS | \n",
       "|---|---|---|---|---|---|\n",
       "| STANDING     | 8.627448e-08 | 7.071596e-06 | 0.9999925    | 1.011563e-07 | 9.650777e-08 | 1.042965e-07 | \n",
       "| STANDING     | 1.300119e-08 | 4.897534e-07 | 0.9999995    | 1.457190e-08 | 1.443481e-08 | 1.518905e-08 | \n",
       "| STANDING     | 1.201143e-08 | 9.275131e-06 | 0.9999907    | 1.302589e-08 | 1.357375e-08 | 1.392128e-08 | \n",
       "| STANDING     | 1.151841e-08 | 1.617590e-06 | 0.9999983    | 1.249811e-08 | 1.302733e-08 | 1.338994e-08 | \n",
       "| STANDING     | 1.128372e-08 | 8.109414e-07 | 0.9999991    | 1.223912e-08 | 1.283396e-08 | 1.312683e-08 | \n",
       "| STANDING     | 2.985663e-08 | 7.707183e-06 | 0.9999922    | 3.320442e-08 | 3.409307e-08 | 3.472674e-08 | \n",
       "\n",
       "\n"
      ],
      "text/plain": [
       "  predict  LAYING       SITTING      STANDING  WALKING      WALKING_DOWNSTAIRS\n",
       "1 STANDING 8.627448e-08 7.071596e-06 0.9999925 1.011563e-07 9.650777e-08      \n",
       "2 STANDING 1.300119e-08 4.897534e-07 0.9999995 1.457190e-08 1.443481e-08      \n",
       "3 STANDING 1.201143e-08 9.275131e-06 0.9999907 1.302589e-08 1.357375e-08      \n",
       "4 STANDING 1.151841e-08 1.617590e-06 0.9999983 1.249811e-08 1.302733e-08      \n",
       "5 STANDING 1.128372e-08 8.109414e-07 0.9999991 1.223912e-08 1.283396e-08      \n",
       "6 STANDING 2.985663e-08 7.707183e-06 0.9999922 3.320442e-08 3.409307e-08      \n",
       "  WALKING_UPSTAIRS\n",
       "1 1.042965e-07    \n",
       "2 1.518905e-08    \n",
       "3 1.392128e-08    \n",
       "4 1.338994e-08    \n",
       "5 1.312683e-08    \n",
       "6 3.472674e-08    "
      ]
     },
     "metadata": {},
     "output_type": "display_data"
    }
   ],
   "source": [
    "# Make predictions\n",
    "yhat_test <- h2o.predict(model, hex_test)\n",
    "head(yhat_test)"
   ]
  },
  {
   "cell_type": "code",
   "execution_count": 31,
   "metadata": {
    "collapsed": false
   },
   "outputs": [
    {
     "data": {
      "text/plain": [
       "H2OMultinomialMetrics: gbm\n",
       "\n",
       "Test Set Metrics: \n",
       "=====================\n",
       "\n",
       "MSE: (Extract with `h2o.mse`) 0.06358653\n",
       "RMSE: (Extract with `h2o.rmse`) 0.2521637\n",
       "Logloss: (Extract with `h2o.logloss`) 0.3214465\n",
       "Mean Per-Class Error: 0.07575778\n",
       "Confusion Matrix: Extract with `h2o.confusionMatrix(<model>, <data>)`)\n",
       "=========================================================================\n",
       "Confusion Matrix: vertical: actual; across: predicted\n",
       "                   LAYING SITTING STANDING WALKING WALKING_DOWNSTAIRS\n",
       "LAYING                537       0        0       0                  0\n",
       "SITTING                 0     401       89       0                  0\n",
       "STANDING                0      40      492       0                  0\n",
       "WALKING                 0       0        0     481                  4\n",
       "WALKING_DOWNSTAIRS      0       0        0      10                378\n",
       "WALKING_UPSTAIRS        0       1        0      24                  6\n",
       "Totals                537     442      581     515                388\n",
       "                   WALKING_UPSTAIRS  Error          Rate\n",
       "LAYING                            0 0.0000 =     0 / 537\n",
       "SITTING                           1 0.1833 =    90 / 491\n",
       "STANDING                          0 0.0752 =    40 / 532\n",
       "WALKING                          11 0.0302 =    15 / 496\n",
       "WALKING_DOWNSTAIRS               32 0.1000 =    42 / 420\n",
       "WALKING_UPSTAIRS                440 0.0658 =    31 / 471\n",
       "Totals                          484 0.0740 = 218 / 2,947\n",
       "\n",
       "Hit Ratio Table: Extract with `h2o.hit_ratio_table(<model>, <data>)`\n",
       "=======================================================================\n",
       "Top-6 Hit Ratios: \n",
       "  k hit_ratio\n",
       "1 1  0.926026\n",
       "2 2  0.990159\n",
       "3 3  0.994231\n",
       "4 4  0.996607\n",
       "5 5  1.000000\n",
       "6 6  1.000000\n"
      ]
     },
     "metadata": {},
     "output_type": "display_data"
    }
   ],
   "source": [
    "# Evaluate predictions\n",
    "h2o.performance(model, newdata = hex_test)"
   ]
  }
 ],
 "metadata": {
  "anaconda-cloud": {},
  "kernelspec": {
   "display_name": "R",
   "language": "R",
   "name": "ir"
  },
  "language_info": {
   "codemirror_mode": "r",
   "file_extension": ".r",
   "mimetype": "text/x-r-source",
   "name": "R",
   "pygments_lexer": "r",
   "version": "3.3.2"
  }
 },
 "nbformat": 4,
 "nbformat_minor": 1
}
